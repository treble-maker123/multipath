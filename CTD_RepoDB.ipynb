{
 "cells": [
  {
   "cell_type": "code",
   "execution_count": 1,
   "metadata": {},
   "outputs": [],
   "source": [
    "from lib.utils.dataset import Dataset\n",
    "from lib.utils.graph import Graph"
   ]
  },
  {
   "cell_type": "code",
   "execution_count": 2,
   "metadata": {},
   "outputs": [],
   "source": [
    "dataset = Dataset(\"data/CTD_RepoDB\")"
   ]
  },
  {
   "cell_type": "code",
   "execution_count": 3,
   "metadata": {},
   "outputs": [
    {
     "name": "stdout",
     "output_type": "stream",
     "text": [
      "num nodes: 75127, num relations: 276\n"
     ]
    }
   ],
   "source": [
    "num_nodes = dataset.num_entities\n",
    "num_relations = dataset.num_relations\n",
    "\n",
    "print(f\"num nodes: {num_nodes}, num relations: {num_relations}\")\n",
    "\n",
    "triplets = dataset.get(\"graph\")\n",
    "graph = Graph(num_nodes, num_relations, triplets)"
   ]
  },
  {
   "cell_type": "code",
   "execution_count": 4,
   "metadata": {},
   "outputs": [
    {
     "data": {
      "text/plain": [
       "(3, 3959438)"
      ]
     },
     "execution_count": 4,
     "metadata": {},
     "output_type": "execute_result"
    }
   ],
   "source": [
    "dataset.get(\"graph\").shape"
   ]
  },
  {
   "cell_type": "code",
   "execution_count": 5,
   "metadata": {},
   "outputs": [
    {
     "name": "stdout",
     "output_type": "stream",
     "text": [
      "1436/75127 nodes have no incoming edges\n",
      "Max in-degree: 47645\n",
      "Average in-degree: 52.70326232910156\n"
     ]
    }
   ],
   "source": [
    "# in-degree\n",
    "in_degrees = graph.in_degrees(range(num_nodes))\n",
    "\n",
    "print(f\"{(in_degrees == 0).sum()}/{num_nodes} nodes have no incoming edges\")\n",
    "print(f\"Max in-degree: {in_degrees.max()}\")\n",
    "print(f\"Average in-degree: {in_degrees.float().mean()}\")"
   ]
  },
  {
   "cell_type": "code",
   "execution_count": 6,
   "metadata": {},
   "outputs": [
    {
     "name": "stdout",
     "output_type": "stream",
     "text": [
      "648/75127 nodes have no out-going edges\n",
      "Max out-degree: 47652\n",
      "Average out_degree: 52.70326232910156\n"
     ]
    }
   ],
   "source": [
    "# out-degree\n",
    "out_degrees = graph.out_degrees(range(num_nodes))\n",
    "\n",
    "print(f\"{(out_degrees == 0).sum()}/{num_nodes} nodes have no out-going edges\")\n",
    "print(f\"Max out-degree: {out_degrees.max()}\")\n",
    "print(f\"Average out_degree: {out_degrees.float().mean()}\")"
   ]
  },
  {
   "cell_type": "code",
   "execution_count": null,
   "metadata": {},
   "outputs": [],
   "source": []
  }
 ],
 "metadata": {
  "kernelspec": {
   "display_name": "Python 3",
   "language": "python",
   "name": "python3"
  },
  "language_info": {
   "codemirror_mode": {
    "name": "ipython",
    "version": 3
   },
   "file_extension": ".py",
   "mimetype": "text/x-python",
   "name": "python",
   "nbconvert_exporter": "python",
   "pygments_lexer": "ipython3",
   "version": "3.7.3"
  }
 },
 "nbformat": 4,
 "nbformat_minor": 2
}
