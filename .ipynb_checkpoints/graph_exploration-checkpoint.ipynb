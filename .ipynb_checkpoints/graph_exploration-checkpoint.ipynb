{
 "cells": [
  {
   "cell_type": "code",
   "execution_count": 13,
   "metadata": {},
   "outputs": [],
   "source": [
    "from lib.utils.dataset import Dataset\n",
    "from lib.utils.graph import Graph"
   ]
  },
  {
   "cell_type": "code",
   "execution_count": 15,
   "metadata": {},
   "outputs": [
    {
     "ename": "NameError",
     "evalue": "name 'nnum_relations' is not defined",
     "output_type": "error",
     "traceback": [
      "\u001b[0;31m---------------------------------------------------------------------------\u001b[0m",
      "\u001b[0;31mNameError\u001b[0m                                 Traceback (most recent call last)",
      "\u001b[0;32m<ipython-input-15-401e25f0c53e>\u001b[0m in \u001b[0;36m<module>\u001b[0;34m\u001b[0m\n\u001b[1;32m      3\u001b[0m \u001b[0mnum_relations\u001b[0m \u001b[0;34m=\u001b[0m \u001b[0mdataset\u001b[0m\u001b[0;34m.\u001b[0m\u001b[0munique_relations\u001b[0m\u001b[0;34m\u001b[0m\u001b[0;34m\u001b[0m\u001b[0m\n\u001b[1;32m      4\u001b[0m \u001b[0;34m\u001b[0m\u001b[0m\n\u001b[0;32m----> 5\u001b[0;31m \u001b[0mprint\u001b[0m\u001b[0;34m(\u001b[0m\u001b[0;34mf\"num nodes: {num_nodes}, num relations: {nnum_relations}\"\u001b[0m\u001b[0;34m)\u001b[0m\u001b[0;34m\u001b[0m\u001b[0;34m\u001b[0m\u001b[0m\n\u001b[0m\u001b[1;32m      6\u001b[0m \u001b[0;34m\u001b[0m\u001b[0m\n\u001b[1;32m      7\u001b[0m \u001b[0mtriplets\u001b[0m \u001b[0;34m=\u001b[0m \u001b[0mdataset\u001b[0m\u001b[0;34m.\u001b[0m\u001b[0mget\u001b[0m\u001b[0;34m(\u001b[0m\u001b[0;34m\"graph\"\u001b[0m\u001b[0;34m)\u001b[0m\u001b[0;34m\u001b[0m\u001b[0;34m\u001b[0m\u001b[0m\n",
      "\u001b[0;31mNameError\u001b[0m: name 'nnum_relations' is not defined"
     ]
    }
   ],
   "source": [
    "dataset = Dataset(\"data/CTD_RepoDB\")\n",
    "num_nodes = dataset.unique_entities\n",
    "num_relations = dataset.unique_relations\n",
    "\n",
    "print(f\"num nodes: {num_nodes}, num relations: {num_relations}\")\n",
    "\n",
    "triplets = dataset.get(\"graph\")\n",
    "graph = Graph(num_nodes, num_relations, triplets)"
   ]
  },
  {
   "cell_type": "code",
   "execution_count": 10,
   "metadata": {},
   "outputs": [
    {
     "name": "stdout",
     "output_type": "stream",
     "text": [
      "16615/75127 nodes have no incoming edges\n",
      "Max in-degree: 7584\n",
      "Average in-degree: 26.574134826660156\n"
     ]
    }
   ],
   "source": [
    "# in-degree\n",
    "in_degrees = graph.in_degrees(range(num_nodes))\n",
    "\n",
    "print(f\"{(in_degrees == 0).sum()}/{num_nodes} nodes have no incoming edges\")\n",
    "print(f\"Max in-degree: {in_degrees.max()}\")\n",
    "print(f\"Average in-degree: {in_degrees.float().mean()}\")"
   ]
  },
  {
   "cell_type": "code",
   "execution_count": 12,
   "metadata": {},
   "outputs": [
    {
     "name": "stdout",
     "output_type": "stream",
     "text": [
      "44767/75127 nodes have no out-going edges\n",
      "Max out-degree: 47652\n",
      "Average out_degree: 26.574134826660156\n"
     ]
    }
   ],
   "source": [
    "# out-degree\n",
    "out_degrees = graph.out_degrees(range(num_nodes))\n",
    "\n",
    "print(f\"{(out_degrees == 0).sum()}/{num_nodes} nodes have no out-going edges\")\n",
    "print(f\"Max out-degree: {out_degrees.max()}\")\n",
    "print(f\"Average out_degree: {out_degrees.float().mean()}\")"
   ]
  }
 ],
 "metadata": {
  "kernelspec": {
   "display_name": "Python 3",
   "language": "python",
   "name": "python3"
  },
  "language_info": {
   "codemirror_mode": {
    "name": "ipython",
    "version": 3
   },
   "file_extension": ".py",
   "mimetype": "text/x-python",
   "name": "python",
   "nbconvert_exporter": "python",
   "pygments_lexer": "ipython3",
   "version": "3.7.3"
  }
 },
 "nbformat": 4,
 "nbformat_minor": 2
}
